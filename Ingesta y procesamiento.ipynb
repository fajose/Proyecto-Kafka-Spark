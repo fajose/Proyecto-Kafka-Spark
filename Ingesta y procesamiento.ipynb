{
 "cells": [
  {
   "cell_type": "code",
   "execution_count": 1,
   "id": "3cb33096",
   "metadata": {},
   "outputs": [],
   "source": [
    "from pyspark.sql.functions import expr, col, from_json, to_timestamp, from_unixtime, window\n",
    "from pyspark.sql.types import StructType, StructField, StringType, BooleanType, IntegerType, ArrayType"
   ]
  },
  {
   "cell_type": "code",
   "execution_count": 2,
   "id": "e35475a7",
   "metadata": {},
   "outputs": [],
   "source": [
    "#Se crea la sesión de spark y se habilita la inferencia de Schema el cual no esta habilitado por defecto en streaming\n",
    "spark = SparkSession \\\n",
    "        .builder \\\n",
    "        .appName(\"Proyecto\") \\\n",
    "        .master(\"local[3]\") \\\n",
    "        .config(\"spark.streaming.stopGracefullyOnShutdown\", \"true\") \\\n",
    "        .config(\"spark.driver.extraClassPath\", \"/usr/share/java/mysql-connector-java-8.0.33.jar\")\\\n",
    "        .config(\"spark.executor.extraClassPath\", \"/usr/share/java/mysql-connector-java-8.0.33.jar\") \\\n",
    "        .getOrCreate()"
   ]
  },
  {
   "cell_type": "code",
   "execution_count": 3,
   "id": "bc0dfbd2",
   "metadata": {},
   "outputs": [],
   "source": [
    "from dotenv import load_dotenv\n",
    "import os\n",
    "\n",
    "load_dotenv()\n",
    "\n",
    "jdbcHostname = os.environ['MYSQL_IP']\n",
    "jdbcPort = os.environ['MYSQL_PORT']\n",
    "jdbcUsername = os.environ['MYSQL_USER']\n",
    "jdbcPassword = os.environ['MYSQL_PASS']\n",
    "jdbcDatabase = os.environ['DBNAME']\n",
    "\n",
    "jdbcUrl = f\"jdbc:mysql://{jdbcHostname}:{jdbcPort}/{jdbcDatabase}\"\n",
    "jdbc_properties = {\"user\": jdbcUsername, \"password\": jdbcPassword, \"driver\": \"com.mysql.cj.jdbc.Driver\"}\n",
    "    \n",
    "def foreach_batch_function(df, epoch_id):\n",
    "    df.write.jdbc(url=jdbcUrl, table=\"sparkkafka\", mode=\"append\", properties=jdbc_properties)"
   ]
  },
  {
   "cell_type": "code",
   "execution_count": 4,
   "id": "c2919a09",
   "metadata": {},
   "outputs": [],
   "source": [
    "kafka_df = spark.readStream \\\n",
    "        .format(\"kafka\") \\\n",
    "        .option(\"kafka.bootstrap.servers\", \"localhost:9092\") \\\n",
    "        .option(\"subscribe\", \"stackOverflow\") \\\n",
    "        .option(\"startingOffsets\", \"earliest\") \\\n",
    "        .load()"
   ]
  },
  {
   "cell_type": "code",
   "execution_count": 5,
   "id": "f1d12e5e",
   "metadata": {},
   "outputs": [],
   "source": [
    "schema = StructType([\n",
    "    StructField(\"tags\", ArrayType(StringType())),\n",
    "    StructField(\"owner\", StructType([\n",
    "            StructField(\"account_id\", IntegerType()),\n",
    "            StructField(\"reputation\", IntegerType()),\n",
    "            StructField(\"user_id\", IntegerType()),\n",
    "            StructField(\"user_type\", StringType()),\n",
    "            StructField(\"profile_image\", StringType()),\n",
    "            StructField(\"display_name\", StringType()),\n",
    "            StructField(\"link\", StringType())            \n",
    "    ])),\n",
    "    StructField(\"is_answered\", BooleanType()),\n",
    "    StructField(\"view_count\", IntegerType()),\n",
    "    StructField(\"answer_count\", IntegerType()),\n",
    "    StructField(\"score\", IntegerType()),\n",
    "    StructField(\"last_activity_date\", IntegerType()),\n",
    "    StructField(\"creation_date\", IntegerType()),\n",
    "    StructField(\"question_id\", IntegerType()),\n",
    "    StructField(\"content_license\", StringType()),\n",
    "    StructField(\"link\", StringType()),\n",
    "    StructField(\"title\", StringType())\n",
    "])"
   ]
  },
  {
   "cell_type": "code",
   "execution_count": 6,
   "id": "c7b07c72",
   "metadata": {},
   "outputs": [],
   "source": [
    "value_df = kafka_df.select(from_json(col(\"value\").cast(\"string\"), schema).alias(\"value\"))"
   ]
  },
  {
   "cell_type": "code",
   "execution_count": 7,
   "id": "9cfdea27",
   "metadata": {},
   "outputs": [],
   "source": [
    "questions_df = value_df.selectExpr(\"value.tags\", \"value.owner.display_name\", \"value.is_answered\", \"value.view_count\",\n",
    "                                   \"value.answer_count\", \"value.score\", \"value.last_activity_date\", \n",
    "                                   \"value.creation_Date\", \"value.question_id\", \"value.title\",\n",
    "                                   \"value.link\")"
   ]
  },
  {
   "cell_type": "code",
   "execution_count": 8,
   "id": "b03c47ef",
   "metadata": {},
   "outputs": [
    {
     "name": "stdout",
     "output_type": "stream",
     "text": [
      "root\n",
      " |-- tags: array (nullable = true)\n",
      " |    |-- element: string (containsNull = true)\n",
      " |-- display_name: string (nullable = true)\n",
      " |-- is_answered: boolean (nullable = true)\n",
      " |-- view_count: integer (nullable = true)\n",
      " |-- answer_count: integer (nullable = true)\n",
      " |-- score: integer (nullable = true)\n",
      " |-- last_activity_date: integer (nullable = true)\n",
      " |-- creation_Date: integer (nullable = true)\n",
      " |-- question_id: integer (nullable = true)\n",
      " |-- title: string (nullable = true)\n",
      " |-- link: string (nullable = true)\n",
      "\n"
     ]
    }
   ],
   "source": [
    "questions_df.printSchema()"
   ]
  },
  {
   "cell_type": "code",
   "execution_count": 9,
   "id": "3fc02f6a",
   "metadata": {},
   "outputs": [],
   "source": [
    "tags_df = questions_df\\\n",
    "                .withColumn(\"creation_Date\", to_timestamp(from_unixtime(col(\"creation_Date\")), \"yyyy-MM-dd HH:mm:ss\"))\\\n",
    "                .selectExpr(\"creation_Date\", \"explode(tags) as tag\", \"question_id\")\n",
    "#tags_df = questions_df.selectExpr(\"explode(tags) as tag\", \"question_id\")"
   ]
  },
  {
   "cell_type": "code",
   "execution_count": 10,
   "id": "773f61b4",
   "metadata": {},
   "outputs": [
    {
     "name": "stdout",
     "output_type": "stream",
     "text": [
      "root\n",
      " |-- creation_Date: timestamp (nullable = true)\n",
      " |-- tag: string (nullable = true)\n",
      " |-- question_id: integer (nullable = true)\n",
      "\n"
     ]
    }
   ],
   "source": [
    "tags_df.printSchema()"
   ]
  },
  {
   "cell_type": "code",
   "execution_count": 16,
   "id": "168b3d20",
   "metadata": {},
   "outputs": [],
   "source": [
    "counts_df=tags_df\\\n",
    "                .withWatermark(\"creation_Date\", \"1 hour\")\\\n",
    "                .groupBy(col(\"tag\"), window(col(\"creation_Date\"), \"15 minute\"))\\\n",
    "                .count()\n",
    "\n",
    "counts_df = counts_df.select(\"tag\", \"window.start\", \"window.end\", \"count\")\n",
    "#counts_df=tags_df\\\n",
    "#                .groupBy(col(\"tag\"))\\\n",
    "#                .count()"
   ]
  },
  {
   "cell_type": "code",
   "execution_count": 17,
   "id": "59abc628",
   "metadata": {},
   "outputs": [
    {
     "name": "stdout",
     "output_type": "stream",
     "text": [
      "root\n",
      " |-- tag: string (nullable = true)\n",
      " |-- start: timestamp (nullable = true)\n",
      " |-- end: timestamp (nullable = true)\n",
      " |-- count: long (nullable = false)\n",
      "\n"
     ]
    }
   ],
   "source": [
    "counts_df.printSchema()"
   ]
  },
  {
   "cell_type": "code",
   "execution_count": 19,
   "id": "5de6aa2f",
   "metadata": {},
   "outputs": [
    {
     "name": "stderr",
     "output_type": "stream",
     "text": [
      "ERROR:root:KeyboardInterrupt while sending command.                             \n",
      "Traceback (most recent call last):\n",
      "  File \"/home/fabian/Spark/spark/python/lib/py4j-0.10.9.5-src.zip/py4j/java_gateway.py\", line 1038, in send_command\n",
      "    response = connection.send_command(command)\n",
      "  File \"/home/fabian/Spark/spark/python/lib/py4j-0.10.9.5-src.zip/py4j/clientserver.py\", line 511, in send_command\n",
      "    answer = smart_decode(self.stream.readline()[:-1])\n",
      "  File \"/usr/lib/python3.10/socket.py\", line 705, in readinto\n",
      "    return self._sock.recv_into(b)\n",
      "KeyboardInterrupt\n"
     ]
    },
    {
     "ename": "KeyboardInterrupt",
     "evalue": "",
     "output_type": "error",
     "traceback": [
      "\u001b[0;31m---------------------------------------------------------------------------\u001b[0m",
      "\u001b[0;31mKeyboardInterrupt\u001b[0m                         Traceback (most recent call last)",
      "Cell \u001b[0;32mIn[19], line 6\u001b[0m\n\u001b[1;32m      1\u001b[0m query \u001b[38;5;241m=\u001b[39m counts_df\u001b[38;5;241m.\u001b[39mwriteStream\\\n\u001b[1;32m      2\u001b[0m             \u001b[38;5;241m.\u001b[39moutputMode(\u001b[38;5;124m\"\u001b[39m\u001b[38;5;124mappend\u001b[39m\u001b[38;5;124m\"\u001b[39m) \\\n\u001b[1;32m      3\u001b[0m             \u001b[38;5;241m.\u001b[39mforeachBatch(foreach_batch_function)\\\n\u001b[1;32m      4\u001b[0m             \u001b[38;5;241m.\u001b[39moption(\u001b[38;5;124m\"\u001b[39m\u001b[38;5;124mcheckpointLocation\u001b[39m\u001b[38;5;124m\"\u001b[39m,\u001b[38;5;124m\"\u001b[39m\u001b[38;5;124m./streaming/chk-point-dir\u001b[39m\u001b[38;5;124m\"\u001b[39m)\\\n\u001b[1;32m      5\u001b[0m             \u001b[38;5;241m.\u001b[39mstart()\n\u001b[0;32m----> 6\u001b[0m \u001b[43mquery\u001b[49m\u001b[38;5;241;43m.\u001b[39;49m\u001b[43mawaitTermination\u001b[49m\u001b[43m(\u001b[49m\u001b[43m)\u001b[49m\n",
      "File \u001b[0;32m~/Spark/spark/python/pyspark/sql/streaming.py:107\u001b[0m, in \u001b[0;36mStreamingQuery.awaitTermination\u001b[0;34m(self, timeout)\u001b[0m\n\u001b[1;32m    105\u001b[0m     \u001b[38;5;28;01mreturn\u001b[39;00m \u001b[38;5;28mself\u001b[39m\u001b[38;5;241m.\u001b[39m_jsq\u001b[38;5;241m.\u001b[39mawaitTermination(\u001b[38;5;28mint\u001b[39m(timeout \u001b[38;5;241m*\u001b[39m \u001b[38;5;241m1000\u001b[39m))\n\u001b[1;32m    106\u001b[0m \u001b[38;5;28;01melse\u001b[39;00m:\n\u001b[0;32m--> 107\u001b[0m     \u001b[38;5;28;01mreturn\u001b[39;00m \u001b[38;5;28;43mself\u001b[39;49m\u001b[38;5;241;43m.\u001b[39;49m\u001b[43m_jsq\u001b[49m\u001b[38;5;241;43m.\u001b[39;49m\u001b[43mawaitTermination\u001b[49m\u001b[43m(\u001b[49m\u001b[43m)\u001b[49m\n",
      "File \u001b[0;32m~/Spark/spark/python/lib/py4j-0.10.9.5-src.zip/py4j/java_gateway.py:1320\u001b[0m, in \u001b[0;36mJavaMember.__call__\u001b[0;34m(self, *args)\u001b[0m\n\u001b[1;32m   1313\u001b[0m args_command, temp_args \u001b[38;5;241m=\u001b[39m \u001b[38;5;28mself\u001b[39m\u001b[38;5;241m.\u001b[39m_build_args(\u001b[38;5;241m*\u001b[39margs)\n\u001b[1;32m   1315\u001b[0m command \u001b[38;5;241m=\u001b[39m proto\u001b[38;5;241m.\u001b[39mCALL_COMMAND_NAME \u001b[38;5;241m+\u001b[39m\\\n\u001b[1;32m   1316\u001b[0m     \u001b[38;5;28mself\u001b[39m\u001b[38;5;241m.\u001b[39mcommand_header \u001b[38;5;241m+\u001b[39m\\\n\u001b[1;32m   1317\u001b[0m     args_command \u001b[38;5;241m+\u001b[39m\\\n\u001b[1;32m   1318\u001b[0m     proto\u001b[38;5;241m.\u001b[39mEND_COMMAND_PART\n\u001b[0;32m-> 1320\u001b[0m answer \u001b[38;5;241m=\u001b[39m \u001b[38;5;28;43mself\u001b[39;49m\u001b[38;5;241;43m.\u001b[39;49m\u001b[43mgateway_client\u001b[49m\u001b[38;5;241;43m.\u001b[39;49m\u001b[43msend_command\u001b[49m\u001b[43m(\u001b[49m\u001b[43mcommand\u001b[49m\u001b[43m)\u001b[49m\n\u001b[1;32m   1321\u001b[0m return_value \u001b[38;5;241m=\u001b[39m get_return_value(\n\u001b[1;32m   1322\u001b[0m     answer, \u001b[38;5;28mself\u001b[39m\u001b[38;5;241m.\u001b[39mgateway_client, \u001b[38;5;28mself\u001b[39m\u001b[38;5;241m.\u001b[39mtarget_id, \u001b[38;5;28mself\u001b[39m\u001b[38;5;241m.\u001b[39mname)\n\u001b[1;32m   1324\u001b[0m \u001b[38;5;28;01mfor\u001b[39;00m temp_arg \u001b[38;5;129;01min\u001b[39;00m temp_args:\n",
      "File \u001b[0;32m~/Spark/spark/python/lib/py4j-0.10.9.5-src.zip/py4j/java_gateway.py:1038\u001b[0m, in \u001b[0;36mGatewayClient.send_command\u001b[0;34m(self, command, retry, binary)\u001b[0m\n\u001b[1;32m   1036\u001b[0m connection \u001b[38;5;241m=\u001b[39m \u001b[38;5;28mself\u001b[39m\u001b[38;5;241m.\u001b[39m_get_connection()\n\u001b[1;32m   1037\u001b[0m \u001b[38;5;28;01mtry\u001b[39;00m:\n\u001b[0;32m-> 1038\u001b[0m     response \u001b[38;5;241m=\u001b[39m \u001b[43mconnection\u001b[49m\u001b[38;5;241;43m.\u001b[39;49m\u001b[43msend_command\u001b[49m\u001b[43m(\u001b[49m\u001b[43mcommand\u001b[49m\u001b[43m)\u001b[49m\n\u001b[1;32m   1039\u001b[0m     \u001b[38;5;28;01mif\u001b[39;00m binary:\n\u001b[1;32m   1040\u001b[0m         \u001b[38;5;28;01mreturn\u001b[39;00m response, \u001b[38;5;28mself\u001b[39m\u001b[38;5;241m.\u001b[39m_create_connection_guard(connection)\n",
      "File \u001b[0;32m~/Spark/spark/python/lib/py4j-0.10.9.5-src.zip/py4j/clientserver.py:511\u001b[0m, in \u001b[0;36mClientServerConnection.send_command\u001b[0;34m(self, command)\u001b[0m\n\u001b[1;32m    509\u001b[0m \u001b[38;5;28;01mtry\u001b[39;00m:\n\u001b[1;32m    510\u001b[0m     \u001b[38;5;28;01mwhile\u001b[39;00m \u001b[38;5;28;01mTrue\u001b[39;00m:\n\u001b[0;32m--> 511\u001b[0m         answer \u001b[38;5;241m=\u001b[39m smart_decode(\u001b[38;5;28;43mself\u001b[39;49m\u001b[38;5;241;43m.\u001b[39;49m\u001b[43mstream\u001b[49m\u001b[38;5;241;43m.\u001b[39;49m\u001b[43mreadline\u001b[49m\u001b[43m(\u001b[49m\u001b[43m)\u001b[49m[:\u001b[38;5;241m-\u001b[39m\u001b[38;5;241m1\u001b[39m])\n\u001b[1;32m    512\u001b[0m         logger\u001b[38;5;241m.\u001b[39mdebug(\u001b[38;5;124m\"\u001b[39m\u001b[38;5;124mAnswer received: \u001b[39m\u001b[38;5;132;01m{0}\u001b[39;00m\u001b[38;5;124m\"\u001b[39m\u001b[38;5;241m.\u001b[39mformat(answer))\n\u001b[1;32m    513\u001b[0m         \u001b[38;5;66;03m# Happens when a the other end is dead. There might be an empty\u001b[39;00m\n\u001b[1;32m    514\u001b[0m         \u001b[38;5;66;03m# answer before the socket raises an error.\u001b[39;00m\n",
      "File \u001b[0;32m/usr/lib/python3.10/socket.py:705\u001b[0m, in \u001b[0;36mSocketIO.readinto\u001b[0;34m(self, b)\u001b[0m\n\u001b[1;32m    703\u001b[0m \u001b[38;5;28;01mwhile\u001b[39;00m \u001b[38;5;28;01mTrue\u001b[39;00m:\n\u001b[1;32m    704\u001b[0m     \u001b[38;5;28;01mtry\u001b[39;00m:\n\u001b[0;32m--> 705\u001b[0m         \u001b[38;5;28;01mreturn\u001b[39;00m \u001b[38;5;28;43mself\u001b[39;49m\u001b[38;5;241;43m.\u001b[39;49m\u001b[43m_sock\u001b[49m\u001b[38;5;241;43m.\u001b[39;49m\u001b[43mrecv_into\u001b[49m\u001b[43m(\u001b[49m\u001b[43mb\u001b[49m\u001b[43m)\u001b[49m\n\u001b[1;32m    706\u001b[0m     \u001b[38;5;28;01mexcept\u001b[39;00m timeout:\n\u001b[1;32m    707\u001b[0m         \u001b[38;5;28mself\u001b[39m\u001b[38;5;241m.\u001b[39m_timeout_occurred \u001b[38;5;241m=\u001b[39m \u001b[38;5;28;01mTrue\u001b[39;00m\n",
      "\u001b[0;31mKeyboardInterrupt\u001b[0m: "
     ]
    }
   ],
   "source": [
    "query = counts_df.writeStream\\\n",
    "            .outputMode(\"append\") \\\n",
    "            .foreachBatch(foreach_batch_function)\\\n",
    "            .option(\"checkpointLocation\",\"./streaming/chk-point-dir\")\\\n",
    "            .start()\n",
    "query.awaitTermination()"
   ]
  },
  {
   "cell_type": "code",
   "execution_count": 20,
   "id": "3c535c1a",
   "metadata": {},
   "outputs": [],
   "source": [
    "query.stop()"
   ]
  },
  {
   "cell_type": "code",
   "execution_count": null,
   "id": "d0e22098",
   "metadata": {},
   "outputs": [],
   "source": []
  }
 ],
 "metadata": {
  "kernelspec": {
   "display_name": "Python 3 (ipykernel)",
   "language": "python",
   "name": "python3"
  },
  "language_info": {
   "codemirror_mode": {
    "name": "ipython",
    "version": 3
   },
   "file_extension": ".py",
   "mimetype": "text/x-python",
   "name": "python",
   "nbconvert_exporter": "python",
   "pygments_lexer": "ipython3",
   "version": "3.10.6"
  }
 },
 "nbformat": 4,
 "nbformat_minor": 5
}
